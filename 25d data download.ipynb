{
 "cells": [
  {
   "cell_type": "markdown",
   "id": "e84a63f9-49e3-4ee7-95a5-5cbf6e7fd158",
   "metadata": {},
   "source": [
    "# Bulk Download of Google 2.5D Buildings Data (Outside Earth Engine)\n",
    "\n",
    "Google's Open Buildings dataset offers 2.5D information such as building height, count, and presence. While Earth Engine can be used to query this dataset, it becomes impractical for national or multi-country downloads due to file size and task quotas.\n",
    "\n",
    "This notebook provides a simple Python-based downloader using Google's official public URLs. It supports downloading `.tif` tiles for entire countries and any available reference year (between 2016 and 2023).\n",
    "\n",
    "The original source can be found here: https://data.humdata.org/dataset/google-open-buildings-temporal\n",
    "\n",
    "---"
   ]
  },
  {
   "cell_type": "markdown",
   "id": "64ba626f-d5a5-4d08-845d-409f74b6ec50",
   "metadata": {},
   "source": [
    "# 1. User configuration"
   ]
  },
  {
   "cell_type": "code",
   "execution_count": null,
   "id": "ef551828-c660-4bec-bc90-a011aecf9c06",
   "metadata": {},
   "outputs": [],
   "source": [
    "# ==== USER INPUT SECTION ====\n",
    "from pathlib import Path\n",
    "\n",
    "# ISO3 country codes to download. Refer to the ISO3 Country Codes csv file to know the code of your country of interest\n",
    "selected_countries = [\"KEN\", \"BRA\"] #Mention the ISO3 Country codes of the countries you wish to download \n",
    "\n",
    "# Reference year: \"2016\", \"2020\", or \"2023\"\n",
    "target_year = \"2023\" #Mention the year you wish to download\n",
    "\n",
    "# Path to the folder where .txt files with URLs are stored. The urls text files are provided in the urls folder.\n",
    "url_folder = Path(r'D:\\VSG\\GEE DATA DOWNLOAD\\google-open-buildings-temporal\\urls')\n",
    "\n",
    "# Path to where the downloaded .tif files will be saved. This can be any path where you wish to save the files.\n",
    "output_base = Path(r'D:\\VSG\\GEE DATA DOWNLOAD\\google-open-buildings-temporal\\tifs')"
   ]
  },
  {
   "cell_type": "markdown",
   "id": "6fac9d0f-c2a8-493d-843c-b6ebdcb932c7",
   "metadata": {},
   "source": [
    "# 2. Import Dependencies "
   ]
  },
  {
   "cell_type": "code",
   "execution_count": null,
   "id": "7d8ec714-5777-4908-a128-ee214ed7eed2",
   "metadata": {},
   "outputs": [],
   "source": [
    "from urllib.request import urlopen\n",
    "from urllib.error import URLError, HTTPError\n",
    "from tqdm.notebook import tqdm"
   ]
  },
  {
   "cell_type": "markdown",
   "id": "3f04ceb5-0ba2-4db5-a639-8e1b4c92f615",
   "metadata": {},
   "source": [
    "# 3. Download Logic"
   ]
  },
  {
   "cell_type": "code",
   "execution_count": null,
   "id": "f8bbfc53-cbdf-4090-841b-ffcefad0746c",
   "metadata": {},
   "outputs": [],
   "source": [
    "def download_file(url: str, dest_path: Path):\n",
    "    \"\"\"\n",
    "    Downloads a single .tif file from a URL if not already downloaded.\n",
    "    \"\"\"\n",
    "    if dest_path.exists():\n",
    "        return  # Skip if already downloaded\n",
    "    try:\n",
    "        with urlopen(url) as response:\n",
    "            data = response.read()\n",
    "            with open(dest_path, \"wb\") as out_file:\n",
    "                out_file.write(data)\n",
    "    except (HTTPError, URLError) as e:\n",
    "        print(f\"⚠️  Failed: {dest_path.name} — {e}\")\n"
   ]
  },
  {
   "cell_type": "markdown",
   "id": "9a574e67-a25d-4419-8da7-3fd2f2fcfe8a",
   "metadata": {},
   "source": [
    "# 4. Process countries (main download loop)"
   ]
  },
  {
   "cell_type": "code",
   "execution_count": null,
   "id": "72737a86-63dd-4bd6-a2a1-88428a99bb13",
   "metadata": {},
   "outputs": [],
   "source": [
    "for iso3 in tqdm(selected_countries, desc=f\"Downloading for year {target_year}\"):\n",
    "    txt_file = url_folder / f\"{iso3}_{target_year}.txt\"\n",
    "    output_dir = output_base / f\"{iso3}_{target_year}\"\n",
    "    output_dir.mkdir(parents=True, exist_ok=True)\n",
    "\n",
    "    if not txt_file.exists():\n",
    "        print(f\"⛔ Missing URL file: {txt_file.name}\")\n",
    "        continue\n",
    "\n",
    "    with open(txt_file, 'r') as f:\n",
    "        urls = f.read().splitlines()\n",
    "\n",
    "    for url in tqdm(urls, desc=f\"{iso3}\", leave=False):\n",
    "        filename = url.split(\"/\")[-1]\n",
    "        output_path = output_dir / filename\n",
    "        download_file(url, output_path)\n",
    "\n",
    "print(\"✅ All downloads completed.\")\n"
   ]
  },
  {
   "cell_type": "markdown",
   "id": "29c0676d-4ff4-4df6-b525-baeff28bce9c",
   "metadata": {},
   "source": [
    "---\n",
    "\n",
    "## ✅ Output Summary\n",
    "\n",
    "All `.tif` files have been saved in subfolders inside your defined `output_base` directory.\n",
    "Each country will have its own folder, e.g., `KEN_2023/`.\n",
    "\n",
    "You can now:\n",
    "- Load the tiles using `rasterio` or `rioxarray`\n",
    "- Perform zonal stats, visualizations, or composite mosaicking\n",
    "- Share tiles offline with collaborators\n",
    "\n",
    "If any tiles failed to download, you can re-run this notebook — existing files will be skipped.\n",
    "\n",
    "---\n"
   ]
  }
 ],
 "metadata": {
  "kernelspec": {
   "display_name": "Python 3 (ipykernel)",
   "language": "python",
   "name": "python3"
  },
  "language_info": {
   "codemirror_mode": {
    "name": "ipython",
    "version": 3
   },
   "file_extension": ".py",
   "mimetype": "text/x-python",
   "name": "python",
   "nbconvert_exporter": "python",
   "pygments_lexer": "ipython3",
   "version": "3.13.0"
  }
 },
 "nbformat": 4,
 "nbformat_minor": 5
}
